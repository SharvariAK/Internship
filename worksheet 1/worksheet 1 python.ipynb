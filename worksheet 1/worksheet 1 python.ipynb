{
 "cells": [
  {
   "cell_type": "markdown",
   "id": "5e5ec9db",
   "metadata": {},
   "source": [
    "11. Write a python program to find the factorial of a number. "
   ]
  },
  {
   "cell_type": "code",
   "execution_count": null,
   "id": "49639746",
   "metadata": {},
   "outputs": [],
   "source": []
  },
  {
   "cell_type": "code",
   "execution_count": 4,
   "id": "92e43a25",
   "metadata": {},
   "outputs": [
    {
     "name": "stdout",
     "output_type": "stream",
     "text": [
      "Enter a number:7\n",
      "The factorial of 7 is 1\n",
      "The factorial of 7 is 2\n",
      "The factorial of 7 is 6\n",
      "The factorial of 7 is 24\n",
      "The factorial of 7 is 120\n",
      "The factorial of 7 is 720\n",
      "The factorial of 7 is 5040\n"
     ]
    }
   ],
   "source": [
    "#Taking input from user\n",
    "num=int(input('Enter a number:'))\n",
    "#To check if number is positive,negative or zero\n",
    "factorial=1\n",
    "if num<0:\n",
    "    print('Sorry,factorial does not exit for negative number')\n",
    "elif num==0:\n",
    "    print('The factorial of zero is 1')\n",
    "else:\n",
    "    for i in range(1,num+1):\n",
    "        factorial=factorial*i\n",
    "        print('The factorial of',num,'is',factorial)"
   ]
  },
  {
   "cell_type": "markdown",
   "id": "efe945c5",
   "metadata": {},
   "source": [
    "12. Write a python program to find whether a number is prime or composite. "
   ]
  },
  {
   "cell_type": "code",
   "execution_count": 6,
   "id": "fbac557a",
   "metadata": {},
   "outputs": [
    {
     "name": "stdout",
     "output_type": "stream",
     "text": [
      "Enter  the number:11\n",
      "Its a Prime no.\n"
     ]
    }
   ],
   "source": [
    "x=input('Enter  the number:')\n",
    "count=0\n",
    "i=1\n",
    "while i<=num:\n",
    "    if num%i==0:\n",
    "        count=count+1\n",
    "    i=i+1\n",
    "if count==2:\n",
    "    print('Its a Prime no.')\n",
    "elif count>2:\n",
    "    print('Its a Composite no.')"
   ]
  },
  {
   "cell_type": "markdown",
   "id": "3d19966f",
   "metadata": {},
   "source": [
    "13. Write a python program to check whether a given string is palindrome or not. "
   ]
  },
  {
   "cell_type": "code",
   "execution_count": 8,
   "id": "4198311d",
   "metadata": {},
   "outputs": [
    {
     "name": "stdout",
     "output_type": "stream",
     "text": [
      "Enter a stringMADAM\n",
      "The number is Palindrome\n"
     ]
    }
   ],
   "source": [
    "a=input('Enter a string')\n",
    "revstr=(a[::-1])\n",
    "if revstr==a:\n",
    "    print('The number is Palindrome')  \n",
    "else:\n",
    "    print('The number is not a Palindrome')     "
   ]
  },
  {
   "cell_type": "markdown",
   "id": "b2d4581c",
   "metadata": {},
   "source": [
    "14. Write a Python program to get the third side of right-angled triangle from two given sides. "
   ]
  },
  {
   "cell_type": "code",
   "execution_count": 10,
   "id": "c7d141a9",
   "metadata": {},
   "outputs": [
    {
     "name": "stdout",
     "output_type": "stream",
     "text": [
      "Enter the length\n",
      "a:5\n",
      "b:3\n",
      "The third side of right angle triangle i.e hypotenous is 5.830951894845301\n"
     ]
    }
   ],
   "source": [
    "from math import sqrt\n",
    "print('Enter the length')\n",
    "a=float(input('a:'))\n",
    "b=float(input('b:'))\n",
    "c=sqrt(a**2 + b**2)\n",
    "print('The third lengthside of right angle triangle i.e hypotenous is',c)"
   ]
  },
  {
   "cell_type": "markdown",
   "id": "183b42f9",
   "metadata": {},
   "source": [
    "15. Write a python program to print the frequency of each of the characters present in a given string "
   ]
  },
  {
   "cell_type": "code",
   "execution_count": 11,
   "id": "f5e2ffe8",
   "metadata": {},
   "outputs": [
    {
     "name": "stdout",
     "output_type": "stream",
     "text": [
      "Enter any stringSharvari Khandale\n",
      "Enter any character to check frequencya\n",
      "5.830951894845301 occurs 0 time(s).\n"
     ]
    }
   ],
   "source": [
    "string=input('Enter any string')\n",
    "y=input('Enter any character to check frequency')\n",
    "count=0\n",
    "for i in string:\n",
    "    if i==c:\n",
    "        count+=1\n",
    "print(c,\"occurs\",count,\"time(s).\")\n",
    "   "
   ]
  },
  {
   "cell_type": "code",
   "execution_count": 12,
   "id": "a581f579",
   "metadata": {},
   "outputs": [
    {
     "name": "stdout",
     "output_type": "stream",
     "text": [
      "{'G': 1, 'o': 2, 'g': 1, 'l': 1, 'e': 1}\n"
     ]
    }
   ],
   "source": [
    "def solve(string):\n",
    "    output={}\n",
    "    for i in string:\n",
    "        keys=output.keys()\n",
    "        if i not in keys:\n",
    "            output[i]=1\n",
    "        else: \n",
    "             output[i]+=1\n",
    "    return output   \n",
    "print(solve('Google'))"
   ]
  },
  {
   "cell_type": "code",
   "execution_count": null,
   "id": "813de3eb",
   "metadata": {},
   "outputs": [],
   "source": []
  }
 ],
 "metadata": {
  "kernelspec": {
   "display_name": "Python 3 (ipykernel)",
   "language": "python",
   "name": "python3"
  },
  "language_info": {
   "codemirror_mode": {
    "name": "ipython",
    "version": 3
   },
   "file_extension": ".py",
   "mimetype": "text/x-python",
   "name": "python",
   "nbconvert_exporter": "python",
   "pygments_lexer": "ipython3",
   "version": "3.9.12"
  }
 },
 "nbformat": 4,
 "nbformat_minor": 5
}
